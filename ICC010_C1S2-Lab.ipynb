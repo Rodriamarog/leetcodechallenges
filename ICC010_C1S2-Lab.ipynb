{
 "cells": [
  {
   "cell_type": "markdown",
   "metadata": {
    "slideshow": {
     "slide_type": "slide"
    }
   },
   "source": [
    "| Clave materia   |     ICC001      |\n",
    "|:----------|:-------------|\n",
    "| **Sesión** | 2 |\n",
    "| **Número de actividades** | 3 |\n",
    "| **Tipo de asignación** |  trabajo independiente  |\n",
    "| **Fecha de asignación** |  |\n",
    "| **fecha de entrega** |  |\n",
    "| **Modalidad** | Programación de pares y/o trabajo independiente |\n",
    "| **Tópico** | 1.2 Longitud y producto punto |\n",
    "| **Matrícula de estudiantes** | **Editar este campo** |\n",
    "| **Autor**| Adán Hirales Carbajal |\n",
    "| **última actualización** ||"
   ]
  },
  {
   "cell_type": "markdown",
   "metadata": {
    "slideshow": {
     "slide_type": "slide"
    }
   },
   "source": [
    "**Expectativas de aprendizaje :** \n",
    "1. <b><span style=\"color:#B22222\">Realizar el producto punto (o interno) entre vectores.</span></b>\n",
    "2. <b><span style=\"color:#B22222\">Estimar la longitud de un vector (norma o magnitud) y su vector unitario.</span></b>\n",
    "3. <b><span style=\"color:#B22222\">Estimar el ángulo entre dos vectores.</span></b>\n",
    "4. <b><span style=\"color:#B22222\">Entender la desigualdad del triangulo (o de schwartz).</span></b>"
   ]
  },
  {
   "cell_type": "markdown",
   "metadata": {
    "slideshow": {
     "slide_type": "slide"
    }
   },
   "source": [
    "Para la interpretación geométrica de un modelo matemático se utilizará la aplicación [Geogebra](https://www.geogebra.org/) 2D o 3D. El procesamiento numérico se tratará utilizando la librería [numpy](https://numpy.org/) y el lenguage de programación [Python 3](https://www.python.org/download/releases/3.0/). Para la edición de ecuaciones se sugiere utilizar el [ editor de ecuaciones matemáticas de Latex](https://www.codecogs.com/latex/eqneditor.php)."
   ]
  },
  {
   "cell_type": "code",
   "execution_count": 1,
   "metadata": {
    "slideshow": {
     "slide_type": "slide"
    }
   },
   "outputs": [],
   "source": [
    "# No olvide ejecutar esta línea al inicializar la sesión\n",
    "import numpy as np"
   ]
  },
  {
   "cell_type": "markdown",
   "metadata": {
    "slideshow": {
     "slide_type": "slide"
    }
   },
   "source": [
    "<figure><img align=\"right\" src=\"img/dexter.png\" width=\"60\" height=\"60\"></figure><br>\n",
    "\n",
    "<p style=\"color:#FF333D\"><b>Actividad 1.</b></p>\n",
    "\n",
    "Considere el ejercicio del [producto punto](https://www.geogebra.org/m/hhnxdxug) publicado en GeoGebra. Intente resolver tres veces el ejercicio utilizando diferentes valores de inicialización."
   ]
  },
  {
   "cell_type": "markdown",
   "metadata": {
    "slideshow": {
     "slide_type": "slide"
    }
   },
   "source": [
    "<figure><img align=\"right\" src=\"img/dexter.png\" width=\"60\" height=\"60\"></figure><br>\n",
    "\n",
    "<p style=\"color:#FF333D\"><b>Actividad 2.</b></p>\n",
    "\n",
    "<p style=\"color:#FF333D\";>¿Cuál es el vector unitario correspondiente a (4,4,2)? </p>\n",
    "\n",
    "$\\text{coloque su respuesta en Latex en esta región}$."
   ]
  },
  {
   "cell_type": "code",
   "execution_count": 10,
   "metadata": {
    "slideshow": {
     "slide_type": "slide"
    }
   },
   "outputs": [],
   "source": [
    "# Estime el vector unitario en la siguiente celda.\n",
    "\n",
    "# 1. Defina el vector línea\n",
    "\n",
    "# 2. Estime la norma del vector línea\n",
    "\n",
    "# 3. Estime el vector unitario\n",
    "\n",
    "# 4. Imprima el vector unitario\n",
    "\n"
   ]
  },
  {
   "cell_type": "markdown",
   "metadata": {
    "slideshow": {
     "slide_type": "slide"
    }
   },
   "source": [
    "<figure><img align=\"right\" src=\"img/dexter.png\" width=\"60\" height=\"60\"></figure><br>\n",
    "\n",
    "<p style=\"color:#FF333D\"><b>Actividad 3.</b></p>\n",
    "\n",
    "Suponga u = (3,0), v = (-2,3) y w = (3,3)\n",
    "\n",
    "<p style=\"color:#FF333D\";>¿Cuál es el ángulo entre u y w? Elabore el código para estimar el ángulo en la siguiente celda</p> \n"
   ]
  },
  {
   "cell_type": "code",
   "execution_count": 4,
   "metadata": {
    "slideshow": {
     "slide_type": "slide"
    }
   },
   "outputs": [],
   "source": [
    "# Estime el águlo entre u y w\n",
    "\n",
    "# 1. Defina los vectores u y w\n",
    "\n",
    "# 2. Estime el águlo\n",
    "\n",
    "# 4. Imprima el ángulo"
   ]
  },
  {
   "cell_type": "markdown",
   "metadata": {
    "slideshow": {
     "slide_type": "slide"
    }
   },
   "source": [
    "<p style=\"color:#FF333D\";>¿Cuál es el ángulo entre u y v? Elabore el código para estimar el ángulo en la siguiente celda</p>\n"
   ]
  },
  {
   "cell_type": "code",
   "execution_count": 5,
   "metadata": {
    "slideshow": {
     "slide_type": "slide"
    }
   },
   "outputs": [],
   "source": [
    "# Estime el águlo entre u y w\n",
    "\n",
    "# 1. Defina los vectores u y w\n",
    "\n",
    "# 2. Estime el águlo\n",
    "\n",
    "# 4. Imprima el ángulo\n"
   ]
  },
  {
   "cell_type": "markdown",
   "metadata": {
    "slideshow": {
     "slide_type": "slide"
    }
   },
   "source": [
    "\n",
    "Genere la gráfica de los vectores u, v y w. Y estime el ángulo entre los vectores. Utilice el siguiente código.\n",
    "```\n",
    "P1 = (0,0)\n",
    "P2 = # agregar la coordenada del vector u aquí\n",
    "P3 = # agregar la coordenada del vector v aquí\n",
    "P4 = # agregar la coordenada del vector w aquí\n",
    "u = Vector(P1,P2)\n",
    "v = Vector(P1,P3)\n",
    "w = Vector(P1,P4)\n",
    "Angle(u,v)     # permite estimar el angulo, en grados, entre u y vector\n",
    "Angle(u,w)\n",
    "```\n",
    "<p style=\"color:#FF333D\"> No olvide declarar su imagen como pública. Guarde la referencia a la imagen y reemplace la liga a la imagen.</p> <p style=\"color:#12770A\";> <a href=\"https://elgoog.im/pacman/\">Mi gráfica</a></p><br> \n"
   ]
  }
 ],
 "metadata": {
  "celltoolbar": "Slideshow",
  "kernelspec": {
   "display_name": "Python 3",
   "language": "python",
   "name": "python3"
  },
  "language_info": {
   "codemirror_mode": {
    "name": "ipython",
    "version": 3
   },
   "file_extension": ".py",
   "mimetype": "text/x-python",
   "name": "python",
   "nbconvert_exporter": "python",
   "pygments_lexer": "ipython3",
   "version": "3.7.4"
  }
 },
 "nbformat": 4,
 "nbformat_minor": 2
}
